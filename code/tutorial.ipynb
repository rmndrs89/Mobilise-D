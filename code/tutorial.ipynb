{
 "cells": [
  {
   "cell_type": "code",
   "execution_count": 1,
   "metadata": {},
   "outputs": [],
   "source": [
    "import numpy as np\n",
    "import matplotlib as mpl\n",
    "import matplotlib.pyplot as plt\n",
    "import os, sys\n",
    "\n",
    "from utils.data_utils import SAMPLING_FREQUENCY, load_data\n",
    "from custom.models import get_multi_output_model\n",
    "\n",
    "import tensorflow as tf\n",
    "from tensorflow import keras"
   ]
  },
  {
   "cell_type": "markdown",
   "metadata": {},
   "source": [
    "## Prerequisites"
   ]
  },
  {
   "cell_type": "markdown",
   "metadata": {},
   "source": [
    "Specify the directory where the data is stored."
   ]
  },
  {
   "cell_type": "code",
   "execution_count": 2,
   "metadata": {},
   "outputs": [],
   "source": [
    "ROOT_DIR = '/mnt/neurogeriatrics_data/MobiliseD_TVS/rawdata' if sys.platform == 'linux' else 'Z:\\\\MobiliseD_TVS\\\\rawdata'"
   ]
  },
  {
   "cell_type": "markdown",
   "metadata": {},
   "source": [
    "Get train and test data, where the proportion of test data is 20% of the subjects."
   ]
  },
  {
   "cell_type": "code",
   "execution_count": 3,
   "metadata": {},
   "outputs": [],
   "source": [
    "train_data, test_data = load_data(path=ROOT_DIR, sequence_length=10., overlap=0., test_size=0.2)"
   ]
  },
  {
   "cell_type": "markdown",
   "metadata": {},
   "source": [
    "Split the train data into features and labels. For the labels, differentiate between labels for gait sequences and gait events."
   ]
  },
  {
   "cell_type": "code",
   "execution_count": 4,
   "metadata": {},
   "outputs": [
    {
     "name": "stdout",
     "output_type": "stream",
     "text": [
      "Shape of train features: (16592, 640, 12)\n",
      "Shape of gait labels: (16592, 640, 1)\n",
      "Shape of event labels: (16592, 640, 5)\n"
     ]
    }
   ],
   "source": [
    "train_features, train_labels = train_data[:,:,:-2], train_data[:,:,-2:]\n",
    "gait_labels = np.expand_dims(train_labels[:,:,0], axis=-1)\n",
    "event_labels = np.expand_dims(train_labels[:,:,1], axis=-1)\n",
    "event_labels = keras.utils.to_categorical(event_labels)\n",
    "print(f'Shape of train features: {train_features.shape}')\n",
    "print(f'Shape of gait labels: {gait_labels.shape}')\n",
    "print(f'Shape of event labels: {event_labels.shape}')"
   ]
  },
  {
   "cell_type": "markdown",
   "metadata": {},
   "source": [
    "Get a multi-output model that simultaneously classifies gait sequences as well as specific gait events."
   ]
  },
  {
   "cell_type": "code",
   "execution_count": 5,
   "metadata": {},
   "outputs": [
    {
     "name": "stdout",
     "output_type": "stream",
     "text": [
      "WARNING:tensorflow:AutoGraph could not transform <bound method TCN.call of <tcn.tcn.TCN object at 0x000002041B543190>> and will run it as-is.\n",
      "Please report this to the TensorFlow team. When filing the bug, set the verbosity to 10 (on Linux, `export AUTOGRAPH_VERBOSITY=10`) and attach the full output.\n",
      "Cause: module 'gast' has no attribute 'Index'\n",
      "To silence this warning, decorate the function with @tf.autograph.experimental.do_not_convert\n",
      "WARNING: AutoGraph could not transform <bound method TCN.call of <tcn.tcn.TCN object at 0x000002041B543190>> and will run it as-is.\n",
      "Please report this to the TensorFlow team. When filing the bug, set the verbosity to 10 (on Linux, `export AUTOGRAPH_VERBOSITY=10`) and attach the full output.\n",
      "Cause: module 'gast' has no attribute 'Index'\n",
      "To silence this warning, decorate the function with @tf.autograph.experimental.do_not_convert\n",
      "Model: \"tcn_model\"\n",
      "__________________________________________________________________________________________________\n",
      "Layer (type)                    Output Shape         Param #     Connected to                     \n",
      "==================================================================================================\n",
      "inputs (InputLayer)             [(None, None, 12)]   0                                            \n",
      "__________________________________________________________________________________________________\n",
      "tcn (TCN)                       (None, None, 64)     167360      inputs[0][0]                     \n",
      "__________________________________________________________________________________________________\n",
      "gait_sequences (Dense)          (None, None, 1)      65          tcn[0][0]                        \n",
      "__________________________________________________________________________________________________\n",
      "concat (Concatenate)            (None, None, 65)     0           tcn[0][0]                        \n",
      "                                                                 gait_sequences[0][0]             \n",
      "__________________________________________________________________________________________________\n",
      "gait_events (Dense)             (None, None, 5)      330         concat[0][0]                     \n",
      "==================================================================================================\n",
      "Total params: 167,755\n",
      "Trainable params: 165,963\n",
      "Non-trainable params: 1,792\n",
      "__________________________________________________________________________________________________\n"
     ]
    },
    {
     "data": {
      "image/png": "[encoded data removed]",
      "text/plain": [
       "<IPython.core.display.Image object>"
      ]
     },
     "execution_count": 5,
     "metadata": {},
     "output_type": "execute_result"
    }
   ],
   "source": [
    "multi_output_model = get_multi_output_model(nb_channels=train_features.shape[-1], nb_classes=event_labels.shape[-1])\n",
    "multi_output_model.summary()\n",
    "keras.utils.plot_model(multi_output_model, show_shapes=True)"
   ]
  },
  {
   "cell_type": "code",
   "execution_count": 6,
   "metadata": {},
   "outputs": [
    {
     "name": "stdout",
     "output_type": "stream",
     "text": [
      "Epoch 1/5\n",
      "1037/1037 [==============================] - 516s 498ms/step - loss: 0.1725 - gait_sequences_loss: 0.0908 - gait_events_loss: 0.0817 - gait_sequences_binary_accuracy: 0.9721 - gait_sequences_categorical_accuracy: 1.0000 - gait_events_binary_accuracy: 0.9960 - gait_events_categorical_accuracy: 0.9898\n",
      "Epoch 2/5\n",
      "1037/1037 [==============================] - 470s 453ms/step - loss: 0.0595 - gait_sequences_loss: 0.0474 - gait_events_loss: 0.0121 - gait_sequences_binary_accuracy: 0.9833 - gait_sequences_categorical_accuracy: 1.0000 - gait_events_binary_accuracy: 0.9986 - gait_events_categorical_accuracy: 0.9964\n",
      "Epoch 3/5\n",
      "1037/1037 [==============================] - 493s 476ms/step - loss: 0.0538 - gait_sequences_loss: 0.0428 - gait_events_loss: 0.0110 - gait_sequences_binary_accuracy: 0.9843 - gait_sequences_categorical_accuracy: 1.0000 - gait_events_binary_accuracy: 0.9986 - gait_events_categorical_accuracy: 0.9966\n",
      "Epoch 4/5\n",
      "1037/1037 [==============================] - 497s 479ms/step - loss: 0.0498 - gait_sequences_loss: 0.0393 - gait_events_loss: 0.0105 - gait_sequences_binary_accuracy: 0.9851 - gait_sequences_categorical_accuracy: 1.0000 - gait_events_binary_accuracy: 0.9986 - gait_events_categorical_accuracy: 0.9966\n",
      "Epoch 5/5\n",
      "1037/1037 [==============================] - 503s 485ms/step - loss: 0.0482 - gait_sequences_loss: 0.0381 - gait_events_loss: 0.0100 - gait_sequences_binary_accuracy: 0.9855 - gait_sequences_categorical_accuracy: 1.0000 - gait_events_binary_accuracy: 0.9987 - gait_events_categorical_accuracy: 0.9967\n"
     ]
    }
   ],
   "source": [
    "multi_output_history = multi_output_model.fit(\n",
    "    x = train_features,\n",
    "    y = {'gait_sequences': gait_labels,\n",
    "         'gait_events': event_labels},\n",
    "    batch_size = 16,\n",
    "    epochs = 5,\n",
    "    shuffle = True\n",
    ")"
   ]
  },
  {
   "cell_type": "code",
   "execution_count": null,
   "metadata": {},
   "outputs": [],
   "source": []
  }
 ],
 "metadata": {
  "kernelspec": {
   "display_name": "Python 3.8.13",
   "language": "python",
   "name": "python3"
  },
  "language_info": {
   "codemirror_mode": {
    "name": "ipython",
    "version": 3
   },
   "file_extension": ".py",
   "mimetype": "text/x-python",
   "name": "python",
   "nbconvert_exporter": "python",
   "pygments_lexer": "ipython3",
   "version": "3.8.13"
  },
  "orig_nbformat": 4,
  "vscode": {
   "interpreter": {
    "hash": "81293ddf04e694819b05ecc203f656194cac2aa86069f12e075cf614de4974a9"
   }
  }
 },
 "nbformat": 4,
 "nbformat_minor": 2
}

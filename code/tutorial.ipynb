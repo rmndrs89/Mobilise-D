{
 "cells": [
  {
   "cell_type": "code",
   "execution_count": 1,
   "metadata": {},
   "outputs": [],
   "source": [
    "import numpy as np\n",
    "import matplotlib as mpl\n",
    "import matplotlib.pyplot as plt\n",
    "import os, sys\n",
    "import tensorflow as tf"
   ]
  },
  {
   "cell_type": "code",
   "execution_count": 2,
   "metadata": {},
   "outputs": [],
   "source": [
    "def _parse_file(filename):\n",
    "    print(type(filename)), print(filename.dtype)\n",
    "    print(filename.numpy().decode('utf-8'))\n",
    "    return"
   ]
  },
  {
   "cell_type": "markdown",
   "metadata": {},
   "source": [
    "## Prerequisites"
   ]
  },
  {
   "cell_type": "code",
   "execution_count": 3,
   "metadata": {},
   "outputs": [],
   "source": [
    "ROOT_DIR = '/mnt/neurogeriatrics_data/MobiliseD_TVS/rawdata' if sys.platform == 'linux' else 'Z:\\\\MobiliseD_TVS\\\\rawdata'"
   ]
  },
  {
   "cell_type": "code",
   "execution_count": 4,
   "metadata": {},
   "outputs": [],
   "source": [
    "file_pattern = os.path.join(ROOT_DIR, 'sub-*/sub-*.npy')"
   ]
  },
  {
   "cell_type": "code",
   "execution_count": 5,
   "metadata": {},
   "outputs": [],
   "source": [
    "filenames_dataset = tf.data.Dataset.list_files(file_pattern)"
   ]
  },
  {
   "cell_type": "code",
   "execution_count": 14,
   "metadata": {},
   "outputs": [
    {
     "name": "stdout",
     "output_type": "stream",
     "text": [
      "Z:\\MobiliseD_TVS\\rawdata\\sub-4022\\sub-4022.npy\n",
      "Z:\\MobiliseD_TVS\\rawdata\\sub-4008\\sub-4008.npy\n",
      "Z:\\MobiliseD_TVS\\rawdata\\sub-4028\\sub-4028.npy\n",
      "Z:\\MobiliseD_TVS\\rawdata\\sub-4020\\sub-4020.npy\n",
      "Z:\\MobiliseD_TVS\\rawdata\\sub-4016\\sub-4016.npy\n",
      "Z:\\MobiliseD_TVS\\rawdata\\sub-4005\\sub-4005.npy\n",
      "Z:\\MobiliseD_TVS\\rawdata\\sub-4006\\sub-4006.npy\n",
      "Z:\\MobiliseD_TVS\\rawdata\\sub-4027\\sub-4027.npy\n",
      "Z:\\MobiliseD_TVS\\rawdata\\sub-4002\\sub-4002.npy\n",
      "Z:\\MobiliseD_TVS\\rawdata\\sub-4015\\sub-4015.npy\n",
      "Z:\\MobiliseD_TVS\\rawdata\\sub-4029\\sub-4029.npy\n",
      "Z:\\MobiliseD_TVS\\rawdata\\sub-4019\\sub-4019.npy\n",
      "Z:\\MobiliseD_TVS\\rawdata\\sub-4011\\sub-4011.npy\n",
      "Z:\\MobiliseD_TVS\\rawdata\\sub-4009\\sub-4009.npy\n",
      "Z:\\MobiliseD_TVS\\rawdata\\sub-4007\\sub-4007.npy\n",
      "Z:\\MobiliseD_TVS\\rawdata\\sub-4017\\sub-4017.npy\n",
      "Z:\\MobiliseD_TVS\\rawdata\\sub-4024\\sub-4024.npy\n",
      "Z:\\MobiliseD_TVS\\rawdata\\sub-4018\\sub-4018.npy\n",
      "Z:\\MobiliseD_TVS\\rawdata\\sub-4021\\sub-4021.npy\n",
      "Z:\\MobiliseD_TVS\\rawdata\\sub-4013\\sub-4013.npy\n",
      "Z:\\MobiliseD_TVS\\rawdata\\sub-4025\\sub-4025.npy\n",
      "Z:\\MobiliseD_TVS\\rawdata\\sub-4003\\sub-4003.npy\n",
      "Z:\\MobiliseD_TVS\\rawdata\\sub-4023\\sub-4023.npy\n",
      "Z:\\MobiliseD_TVS\\rawdata\\sub-4012\\sub-4012.npy\n"
     ]
    }
   ],
   "source": [
    "sample_length = 64\n",
    "for filename in filenames_dataset:\n",
    "    print(filename.numpy().decode('utf-8'))\n",
    "    with open(filename.numpy().decode('utf-8'), 'rb') as infile:\n",
    "        data = np.load(infile)\n",
    "        labels = data[:,-2:]\n",
    "        data = data[:,:-2]\n",
    "        features_ds = tf.keras.preprocessing.timeseries_dataset_from_array(\n",
    "            data,\n",
    "            None,\n",
    "            sequence_length=sample_length,\n",
    "            sequence_stride=sample_length\n",
    "        )\n",
    "        targets_ds = tf.keras.preprocessing.timeseries_dataset_from_array(\n",
    "            labels,\n",
    "            None,\n",
    "            sequence_length=sample_length,\n",
    "            sequence_stride=sample_length\n",
    "        )\n",
    "        for batch in zip(features_ds, targets_ds):\n",
    "            features, targets = batch\n",
    "            break\n"
   ]
  },
  {
   "cell_type": "code",
   "execution_count": 19,
   "metadata": {},
   "outputs": [],
   "source": [
    "assert np.array_equal(features[0], data[:sample_length,:])"
   ]
  },
  {
   "cell_type": "code",
   "execution_count": null,
   "metadata": {},
   "outputs": [],
   "source": []
  }
 ],
 "metadata": {
  "kernelspec": {
   "display_name": "Python 3.8.13",
   "language": "python",
   "name": "python3"
  },
  "language_info": {
   "codemirror_mode": {
    "name": "ipython",
    "version": 3
   },
   "file_extension": ".py",
   "mimetype": "text/x-python",
   "name": "python",
   "nbconvert_exporter": "python",
   "pygments_lexer": "ipython3",
   "version": "3.8.13"
  },
  "orig_nbformat": 4,
  "vscode": {
   "interpreter": {
    "hash": "81293ddf04e694819b05ecc203f656194cac2aa86069f12e075cf614de4974a9"
   }
  }
 },
 "nbformat": 4,
 "nbformat_minor": 2
}

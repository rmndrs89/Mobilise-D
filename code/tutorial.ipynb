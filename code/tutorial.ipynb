{
 "cells": [
  {
   "cell_type": "code",
   "execution_count": 1,
   "metadata": {},
   "outputs": [],
   "source": [
    "import numpy as np\n",
    "import matplotlib as mpl\n",
    "import matplotlib.pyplot as plt\n",
    "import os, sys, time\n",
    "\n",
    "from utils.data_utils import SAMPLING_FREQUENCY, load_data\n",
    "\n",
    "import tensorflow as tf\n",
    "from tensorflow import keras\n",
    "from tcn import TCN\n",
    "\n",
    "from custom.models import get_multi_output_model"
   ]
  },
  {
   "cell_type": "markdown",
   "metadata": {},
   "source": [
    "## Prerequisites"
   ]
  },
  {
   "cell_type": "markdown",
   "metadata": {},
   "source": [
    "Specify the directory where the data is stored."
   ]
  },
  {
   "cell_type": "code",
   "execution_count": 2,
   "metadata": {},
   "outputs": [],
   "source": [
    "ROOT_DIR = '/mnt/neurogeriatrics_data/MobiliseD_TVS/rawdata' if sys.platform == 'linux' else 'Z:\\\\MobiliseD_TVS\\\\rawdata'\n",
    "WIN_LEN = int(10 * SAMPLING_FREQUENCY)  # corresponds to windows of 10 seconds"
   ]
  },
  {
   "cell_type": "markdown",
   "metadata": {},
   "source": [
    "Get train and test data, where the proportion of test data is 20% of the subjects."
   ]
  },
  {
   "cell_type": "code",
   "execution_count": 3,
   "metadata": {},
   "outputs": [],
   "source": [
    "train_data, val_data, test_data = load_data(path=ROOT_DIR, win_len=WIN_LEN)"
   ]
  },
  {
   "cell_type": "markdown",
   "metadata": {},
   "source": [
    "Split the train data into features and labels. For the labels, differentiate between labels for gait sequences and gait events."
   ]
  },
  {
   "cell_type": "code",
   "execution_count": 4,
   "metadata": {},
   "outputs": [
    {
     "name": "stdout",
     "output_type": "stream",
     "text": [
      "Shape of train features: (50578, 640, 12)\n",
      "Shape of train labels: (50578, 640, 1)\n",
      "Shape of train labels: (50578, 640, 5)\n",
      "Shape of val features: (22024, 640, 12)\n",
      "Shape of val labels: (22024, 640, 1)\n",
      "Shape of val labels: (22024, 640, 5)\n"
     ]
    }
   ],
   "source": [
    "X_train, y1_train, y2_train = train_data\n",
    "y2_train = tf.keras.utils.to_categorical(y2_train, num_classes=5)\n",
    "X_val, y1_val, y2_val = val_data\n",
    "y2_val = tf.keras.utils.to_categorical(y2_val, num_classes=5)\n",
    "print(f\"Shape of train features: {X_train.shape}\")\n",
    "print(f\"Shape of train labels: {y1_train.shape}\")\n",
    "print(f\"Shape of train labels: {y2_train.shape}\")\n",
    "print(f\"Shape of val features: {X_val.shape}\")\n",
    "print(f\"Shape of val labels: {y1_val.shape}\")\n",
    "print(f\"Shape of val labels: {y2_val.shape}\")"
   ]
  },
  {
   "cell_type": "markdown",
   "metadata": {},
   "source": [
    "Get a multi-output model that simultaneously classifies gait sequences as well as specific gait events."
   ]
  },
  {
   "cell_type": "code",
   "execution_count": 5,
   "metadata": {},
   "outputs": [
    {
     "name": "stdout",
     "output_type": "stream",
     "text": [
      "WARNING:tensorflow:AutoGraph could not transform <bound method TCN.call of <tcn.tcn.TCN object at 0x0000024BDB79AD60>> and will run it as-is.\n",
      "Please report this to the TensorFlow team. When filing the bug, set the verbosity to 10 (on Linux, `export AUTOGRAPH_VERBOSITY=10`) and attach the full output.\n",
      "Cause: module 'gast' has no attribute 'Index'\n",
      "To silence this warning, decorate the function with @tf.autograph.experimental.do_not_convert\n",
      "WARNING: AutoGraph could not transform <bound method TCN.call of <tcn.tcn.TCN object at 0x0000024BDB79AD60>> and will run it as-is.\n",
      "Please report this to the TensorFlow team. When filing the bug, set the verbosity to 10 (on Linux, `export AUTOGRAPH_VERBOSITY=10`) and attach the full output.\n",
      "Cause: module 'gast' has no attribute 'Index'\n",
      "To silence this warning, decorate the function with @tf.autograph.experimental.do_not_convert\n",
      "Model: \"tcn_model\"\n",
      "__________________________________________________________________________________________________\n",
      "Layer (type)                    Output Shape         Param #     Connected to                     \n",
      "==================================================================================================\n",
      "inputs (InputLayer)             [(None, None, 12)]   0                                            \n",
      "__________________________________________________________________________________________________\n",
      "tcn (TCN)                       (None, None, 64)     167360      inputs[0][0]                     \n",
      "__________________________________________________________________________________________________\n",
      "gait_sequences (Dense)          (None, None, 1)      65          tcn[0][0]                        \n",
      "__________________________________________________________________________________________________\n",
      "concat (Concatenate)            (None, None, 65)     0           tcn[0][0]                        \n",
      "                                                                 gait_sequences[0][0]             \n",
      "__________________________________________________________________________________________________\n",
      "gait_events (Dense)             (None, None, 640)    42240       concat[0][0]                     \n",
      "==================================================================================================\n",
      "Total params: 209,665\n",
      "Trainable params: 207,873\n",
      "Non-trainable params: 1,792\n",
      "__________________________________________________________________________________________________\n"
     ]
    }
   ],
   "source": [
    "model = get_multi_output_model(nb_channels=X_train.shape[-1], nb_classes = y2_train.shape[-1])\n",
    "model.summary()"
   ]
  },
  {
   "cell_type": "markdown",
   "metadata": {},
   "source": [
    "Define callbacks to reduce the chance of overfitting."
   ]
  },
  {
   "cell_type": "code",
   "execution_count": 6,
   "metadata": {},
   "outputs": [],
   "source": [
    "callbacks = [\n",
    "    keras.callbacks.EarlyStopping(\n",
    "        patience = 5,         # number of epochs in a row in which there is no improvement\n",
    "        monitor = 'val_loss', # which performance metric to use\n",
    "        mode = 'min'          # minimize or maximize the performance metric\n",
    "    ),\n",
    "    keras.callbacks.ModelCheckpoint(\n",
    "        filepath = './training/00',\n",
    "        monitor = 'val_loss',\n",
    "        save_best_only = True,\n",
    "        save_weight_only = False,\n",
    "        mode = 'min'\n",
    "    )\n",
    "]"
   ]
  },
  {
   "cell_type": "code",
   "execution_count": 8,
   "metadata": {},
   "outputs": [
    {
     "name": "stdout",
     "output_type": "stream",
     "text": [
      "Epoch 1/3\n"
     ]
    },
    {
     "ename": "TypeError",
     "evalue": "'NoneType' object is not callable",
     "output_type": "error",
     "traceback": [
      "\u001b[1;31m---------------------------------------------------------------------------\u001b[0m",
      "\u001b[1;31mTypeError\u001b[0m                                 Traceback (most recent call last)",
      "\u001b[1;32md:\\Projects\\Mobilise-D\\code\\tutorial.ipynb Cell 13'\u001b[0m in \u001b[0;36m<cell line: 1>\u001b[1;34m()\u001b[0m\n\u001b[1;32m----> <a href='vscode-notebook-cell:/d%3A/Projects/Mobilise-D/code/tutorial.ipynb#ch0000013?line=0'>1</a>\u001b[0m history \u001b[39m=\u001b[39m model\u001b[39m.\u001b[39;49mfit(\n\u001b[0;32m      <a href='vscode-notebook-cell:/d%3A/Projects/Mobilise-D/code/tutorial.ipynb#ch0000013?line=1'>2</a>\u001b[0m     x \u001b[39m=\u001b[39;49m X_train,\n\u001b[0;32m      <a href='vscode-notebook-cell:/d%3A/Projects/Mobilise-D/code/tutorial.ipynb#ch0000013?line=2'>3</a>\u001b[0m     y \u001b[39m=\u001b[39;49m {\u001b[39m'\u001b[39;49m\u001b[39mgait_sequences\u001b[39;49m\u001b[39m'\u001b[39;49m: y1_train,\n\u001b[0;32m      <a href='vscode-notebook-cell:/d%3A/Projects/Mobilise-D/code/tutorial.ipynb#ch0000013?line=3'>4</a>\u001b[0m          \u001b[39m'\u001b[39;49m\u001b[39mgait_events\u001b[39;49m\u001b[39m'\u001b[39;49m: y2_train},\n\u001b[0;32m      <a href='vscode-notebook-cell:/d%3A/Projects/Mobilise-D/code/tutorial.ipynb#ch0000013?line=4'>5</a>\u001b[0m     batch_size \u001b[39m=\u001b[39;49m \u001b[39m32\u001b[39;49m,\n\u001b[0;32m      <a href='vscode-notebook-cell:/d%3A/Projects/Mobilise-D/code/tutorial.ipynb#ch0000013?line=5'>6</a>\u001b[0m     epochs \u001b[39m=\u001b[39;49m \u001b[39m3\u001b[39;49m,\n\u001b[0;32m      <a href='vscode-notebook-cell:/d%3A/Projects/Mobilise-D/code/tutorial.ipynb#ch0000013?line=6'>7</a>\u001b[0m     shuffle \u001b[39m=\u001b[39;49m \u001b[39mTrue\u001b[39;49;00m,\n\u001b[0;32m      <a href='vscode-notebook-cell:/d%3A/Projects/Mobilise-D/code/tutorial.ipynb#ch0000013?line=7'>8</a>\u001b[0m     validation_data \u001b[39m=\u001b[39;49m (X_val, {\n\u001b[0;32m      <a href='vscode-notebook-cell:/d%3A/Projects/Mobilise-D/code/tutorial.ipynb#ch0000013?line=8'>9</a>\u001b[0m         \u001b[39m'\u001b[39;49m\u001b[39mgait_sequences\u001b[39;49m\u001b[39m'\u001b[39;49m: y1_val,\n\u001b[0;32m     <a href='vscode-notebook-cell:/d%3A/Projects/Mobilise-D/code/tutorial.ipynb#ch0000013?line=9'>10</a>\u001b[0m         \u001b[39m'\u001b[39;49m\u001b[39mgait_events\u001b[39;49m\u001b[39m'\u001b[39;49m: y2_val\n\u001b[0;32m     <a href='vscode-notebook-cell:/d%3A/Projects/Mobilise-D/code/tutorial.ipynb#ch0000013?line=10'>11</a>\u001b[0m     }),\n\u001b[0;32m     <a href='vscode-notebook-cell:/d%3A/Projects/Mobilise-D/code/tutorial.ipynb#ch0000013?line=11'>12</a>\u001b[0m     callbacks \u001b[39m=\u001b[39;49m callbacks\n\u001b[0;32m     <a href='vscode-notebook-cell:/d%3A/Projects/Mobilise-D/code/tutorial.ipynb#ch0000013?line=12'>13</a>\u001b[0m )\n",
      "File \u001b[1;32md:\\Projects\\Mobilise-D\\envs\\lib\\site-packages\\tensorflow\\python\\keras\\engine\\training.py:108\u001b[0m, in \u001b[0;36menable_multi_worker.<locals>._method_wrapper\u001b[1;34m(self, *args, **kwargs)\u001b[0m\n\u001b[0;32m    106\u001b[0m \u001b[39mdef\u001b[39;00m \u001b[39m_method_wrapper\u001b[39m(\u001b[39mself\u001b[39m, \u001b[39m*\u001b[39margs, \u001b[39m*\u001b[39m\u001b[39m*\u001b[39mkwargs):\n\u001b[0;32m    107\u001b[0m   \u001b[39mif\u001b[39;00m \u001b[39mnot\u001b[39;00m \u001b[39mself\u001b[39m\u001b[39m.\u001b[39m_in_multi_worker_mode():  \u001b[39m# pylint: disable=protected-access\u001b[39;00m\n\u001b[1;32m--> 108\u001b[0m     \u001b[39mreturn\u001b[39;00m method(\u001b[39mself\u001b[39;49m, \u001b[39m*\u001b[39;49margs, \u001b[39m*\u001b[39;49m\u001b[39m*\u001b[39;49mkwargs)\n\u001b[0;32m    110\u001b[0m   \u001b[39m# Running inside `run_distribute_coordinator` already.\u001b[39;00m\n\u001b[0;32m    111\u001b[0m   \u001b[39mif\u001b[39;00m dc_context\u001b[39m.\u001b[39mget_current_worker_context():\n",
      "File \u001b[1;32md:\\Projects\\Mobilise-D\\envs\\lib\\site-packages\\tensorflow\\python\\keras\\engine\\training.py:1098\u001b[0m, in \u001b[0;36mModel.fit\u001b[1;34m(self, x, y, batch_size, epochs, verbose, callbacks, validation_split, validation_data, shuffle, class_weight, sample_weight, initial_epoch, steps_per_epoch, validation_steps, validation_batch_size, validation_freq, max_queue_size, workers, use_multiprocessing)\u001b[0m\n\u001b[0;32m   1091\u001b[0m \u001b[39mwith\u001b[39;00m trace\u001b[39m.\u001b[39mTrace(\n\u001b[0;32m   1092\u001b[0m     \u001b[39m'\u001b[39m\u001b[39mTraceContext\u001b[39m\u001b[39m'\u001b[39m,\n\u001b[0;32m   1093\u001b[0m     graph_type\u001b[39m=\u001b[39m\u001b[39m'\u001b[39m\u001b[39mtrain\u001b[39m\u001b[39m'\u001b[39m,\n\u001b[0;32m   1094\u001b[0m     epoch_num\u001b[39m=\u001b[39mepoch,\n\u001b[0;32m   1095\u001b[0m     step_num\u001b[39m=\u001b[39mstep,\n\u001b[0;32m   1096\u001b[0m     batch_size\u001b[39m=\u001b[39mbatch_size):\n\u001b[0;32m   1097\u001b[0m   callbacks\u001b[39m.\u001b[39mon_train_batch_begin(step)\n\u001b[1;32m-> 1098\u001b[0m   tmp_logs \u001b[39m=\u001b[39m train_function(iterator)\n\u001b[0;32m   1099\u001b[0m   \u001b[39mif\u001b[39;00m data_handler\u001b[39m.\u001b[39mshould_sync:\n\u001b[0;32m   1100\u001b[0m     context\u001b[39m.\u001b[39masync_wait()\n",
      "File \u001b[1;32md:\\Projects\\Mobilise-D\\envs\\lib\\site-packages\\tensorflow\\python\\eager\\def_function.py:780\u001b[0m, in \u001b[0;36mFunction.__call__\u001b[1;34m(self, *args, **kwds)\u001b[0m\n\u001b[0;32m    778\u001b[0m \u001b[39melse\u001b[39;00m:\n\u001b[0;32m    779\u001b[0m   compiler \u001b[39m=\u001b[39m \u001b[39m\"\u001b[39m\u001b[39mnonXla\u001b[39m\u001b[39m\"\u001b[39m\n\u001b[1;32m--> 780\u001b[0m   result \u001b[39m=\u001b[39m \u001b[39mself\u001b[39;49m\u001b[39m.\u001b[39;49m_call(\u001b[39m*\u001b[39;49margs, \u001b[39m*\u001b[39;49m\u001b[39m*\u001b[39;49mkwds)\n\u001b[0;32m    782\u001b[0m new_tracing_count \u001b[39m=\u001b[39m \u001b[39mself\u001b[39m\u001b[39m.\u001b[39m_get_tracing_count()\n\u001b[0;32m    783\u001b[0m without_tracing \u001b[39m=\u001b[39m (tracing_count \u001b[39m==\u001b[39m new_tracing_count)\n",
      "File \u001b[1;32md:\\Projects\\Mobilise-D\\envs\\lib\\site-packages\\tensorflow\\python\\eager\\def_function.py:807\u001b[0m, in \u001b[0;36mFunction._call\u001b[1;34m(self, *args, **kwds)\u001b[0m\n\u001b[0;32m    804\u001b[0m   \u001b[39mself\u001b[39m\u001b[39m.\u001b[39m_lock\u001b[39m.\u001b[39mrelease()\n\u001b[0;32m    805\u001b[0m   \u001b[39m# In this case we have created variables on the first call, so we run the\u001b[39;00m\n\u001b[0;32m    806\u001b[0m   \u001b[39m# defunned version which is guaranteed to never create variables.\u001b[39;00m\n\u001b[1;32m--> 807\u001b[0m   \u001b[39mreturn\u001b[39;00m \u001b[39mself\u001b[39;49m\u001b[39m.\u001b[39;49m_stateless_fn(\u001b[39m*\u001b[39;49margs, \u001b[39m*\u001b[39;49m\u001b[39m*\u001b[39;49mkwds)  \u001b[39m# pylint: disable=not-callable\u001b[39;00m\n\u001b[0;32m    808\u001b[0m \u001b[39melif\u001b[39;00m \u001b[39mself\u001b[39m\u001b[39m.\u001b[39m_stateful_fn \u001b[39mis\u001b[39;00m \u001b[39mnot\u001b[39;00m \u001b[39mNone\u001b[39;00m:\n\u001b[0;32m    809\u001b[0m   \u001b[39m# Release the lock early so that multiple threads can perform the call\u001b[39;00m\n\u001b[0;32m    810\u001b[0m   \u001b[39m# in parallel.\u001b[39;00m\n\u001b[0;32m    811\u001b[0m   \u001b[39mself\u001b[39m\u001b[39m.\u001b[39m_lock\u001b[39m.\u001b[39mrelease()\n",
      "\u001b[1;31mTypeError\u001b[0m: 'NoneType' object is not callable"
     ]
    }
   ],
   "source": [
    "history = model.fit(\n",
    "    x = X_train,\n",
    "    y = {'gait_sequences': y1_train,\n",
    "         'gait_events': y2_train},\n",
    "    batch_size = 32,\n",
    "    epochs = 3,\n",
    "    shuffle = True,\n",
    "    validation_data = (X_val, {\n",
    "        'gait_sequences': y1_val,\n",
    "        'gait_events': y2_val\n",
    "    }),\n",
    "    callbacks = callbacks\n",
    ")"
   ]
  },
  {
   "cell_type": "code",
   "execution_count": 11,
   "metadata": {},
   "outputs": [],
   "source": [
    "predictions = multi_output_model.predict(x=train_features)"
   ]
  },
  {
   "cell_type": "code",
   "execution_count": 15,
   "metadata": {},
   "outputs": [
    {
     "name": "stdout",
     "output_type": "stream",
     "text": [
      "<class 'numpy.ndarray'>\n",
      "(16592, 640, 1)\n",
      "<class 'numpy.ndarray'>\n",
      "(16592, 640, 5)\n"
     ]
    }
   ],
   "source": [
    "for i in range(len(predictions)):\n",
    "    print(type(predictions[i]))\n",
    "    print(predictions[i].shape)"
   ]
  },
  {
   "cell_type": "code",
   "execution_count": 46,
   "metadata": {},
   "outputs": [
    {
     "data": {
      "image/png": "[encoded data removed]",
      "text/plain": [
       "<Figure size 2304x576 with 4 Axes>"
      ]
     },
     "metadata": {
      "needs_background": "light"
     },
     "output_type": "display_data"
    }
   ],
   "source": [
    "ix_random = np.random.choice(predictions[0].shape[0], 1, replace=False)[0]\n",
    "\n",
    "fig, axs = plt.subplots(2, 2, figsize=(32, 8), sharex=True)\n",
    "axs[0][0].plot(train_features[ix_random:ix_random+10][:,4])\n",
    "axs[0][0].plot(train_features[ix_random:ix_random+10][:,10])\n",
    "axs[1][0].plot(gait_labels[ix_random][:,0])\n",
    "axs[1][0].plot(predictions[0][ix_random][:,0])\n",
    "axs[1][0].set_ylim([-0.1, 1.1])\n",
    "axs[1][0].set_xticks([0, 1])\n",
    "plt.show()"
   ]
  },
  {
   "cell_type": "code",
   "execution_count": null,
   "metadata": {},
   "outputs": [],
   "source": []
  }
 ],
 "metadata": {
  "kernelspec": {
   "display_name": "Python 3.8.13",
   "language": "python",
   "name": "python3"
  },
  "language_info": {
   "codemirror_mode": {
    "name": "ipython",
    "version": 3
   },
   "file_extension": ".py",
   "mimetype": "text/x-python",
   "name": "python",
   "nbconvert_exporter": "python",
   "pygments_lexer": "ipython3",
   "version": "3.8.13"
  },
  "orig_nbformat": 4,
  "vscode": {
   "interpreter": {
    "hash": "81293ddf04e694819b05ecc203f656194cac2aa86069f12e075cf614de4974a9"
   }
  }
 },
 "nbformat": 4,
 "nbformat_minor": 2
}
